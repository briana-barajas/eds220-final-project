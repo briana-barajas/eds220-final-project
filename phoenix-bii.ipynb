{
 "cells": [
  {
   "cell_type": "markdown",
   "id": "9928ddaf-5491-4e8c-8f20-d9caee7ea75f",
   "metadata": {},
   "source": [
    "# Biodiversity Assesment of the Phoenix Metropolitan Area\n",
    "\n",
    "A geographic assesment of biodiversity in Maricopa County, utilizing the biodiversity intactness index (BII).\n",
    "\n",
    "## Background\n",
    "Add summary...\n",
    "\n",
    "## Project Setup\n",
    "\n",
    "Libraries"
   ]
  },
  {
   "cell_type": "code",
   "execution_count": 14,
   "id": "00350c08-eaa2-419e-aeb2-42acaad5954f",
   "metadata": {
    "tags": []
   },
   "outputs": [],
   "source": [
    "import numpy as np\n",
    "import geopandas as gpd\n",
    "import rioxarray as rioxr\n",
    "import matplotlib.pyplot as plt\n",
    "\n",
    "from shapely.geometry import Polygon\n",
    "\n",
    "from pystac_client import Client\n",
    "import planetary_computer\n",
    "from IPython.display import Image"
   ]
  },
  {
   "cell_type": "markdown",
   "id": "7e809bf5-4910-4f41-be9b-300b1744dbc9",
   "metadata": {},
   "source": [
    "### Loading Data\n",
    "BII will be accessed through the MPC STAC catalog, search for `io-biodiversity`"
   ]
  },
  {
   "cell_type": "code",
   "execution_count": 25,
   "id": "ea89b4b0-04a0-4cf6-b2bd-3d438cc1c20e",
   "metadata": {
    "tags": []
   },
   "outputs": [],
   "source": [
    "# access mpc catalog\n",
    "catalog = Client.open(\n",
    "    \"https://planetarycomputer.microsoft.com/api/stac/v1\",\n",
    "    modifier=planetary_computer.sign_inplace,)\n",
    "\n",
    "# store bounding box\n",
    "bbox = [-112.826843, 32.974108, -111.184387, 33.863574]\n",
    "\n",
    "# search for bii data for area of interest\n",
    "search = catalog.search(\n",
    "    collections = ['io-biodiversity'],\n",
    "    bbox = bbox,\n",
    "    datetime = '2017/2020')\n",
    "\n",
    "# retrieve items from search\n",
    "items = search.item_collection()\n",
    "\n",
    "# store items for years of interest\n",
    "item_2020 = items[0]\n",
    "item_2017 = items[3]"
   ]
  },
  {
   "cell_type": "markdown",
   "id": "590016be-44f7-48a5-9078-565d57d38126",
   "metadata": {
    "tags": []
   },
   "source": [
    "Information on Phoenix subdivisions will be created using US Census data:"
   ]
  },
  {
   "cell_type": "code",
   "execution_count": null,
   "id": "412d94c0-41d8-4984-9727-20efe8f465ae",
   "metadata": {
    "tags": []
   },
   "outputs": [],
   "source": []
  }
 ],
 "metadata": {
  "kernelspec": {
   "display_name": "Python 3 (ipykernel)",
   "language": "python",
   "name": "python3"
  },
  "language_info": {
   "codemirror_mode": {
    "name": "ipython",
    "version": 3
   },
   "file_extension": ".py",
   "mimetype": "text/x-python",
   "name": "python",
   "nbconvert_exporter": "python",
   "pygments_lexer": "ipython3",
   "version": "3.11.4"
  }
 },
 "nbformat": 4,
 "nbformat_minor": 5
}
